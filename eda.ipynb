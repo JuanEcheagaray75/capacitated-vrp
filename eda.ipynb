{
 "cells": [
  {
   "cell_type": "markdown",
   "metadata": {},
   "source": [
    "# Análisis exploratorio de datos"
   ]
  },
  {
   "cell_type": "markdown",
   "metadata": {},
   "source": [
    "## Dependencias"
   ]
  },
  {
   "cell_type": "code",
   "execution_count": 30,
   "metadata": {},
   "outputs": [],
   "source": [
    "import pandas as pd\n",
    "import numpy as np\n",
    "import matplotlib.pyplot as plt\n",
    "import seaborn as sns\n",
    "plt.style.use('ggplot')\n"
   ]
  },
  {
   "cell_type": "markdown",
   "metadata": {},
   "source": [
    "## Productos a enviar"
   ]
  },
  {
   "cell_type": "code",
   "execution_count": 31,
   "metadata": {},
   "outputs": [],
   "source": [
    "coded_deliveries = pd.read_csv('data/processed/deliveries-by-address-with-coords.csv')\n",
    "latest_deliveries = pd.read_csv('data/processed/latest-deliveries.csv')\n",
    "products = pd.read_csv('data/processed/products.csv')\n"
   ]
  },
  {
   "cell_type": "markdown",
   "metadata": {},
   "source": [
    "Dado lo relativamente costoso que puede ser el procesar todos los datos de nuevo, podemos aprovechar los datos ya procesados y hacer uso de pandas para obtener solamente la información que necesitamos."
   ]
  },
  {
   "cell_type": "code",
   "execution_count": 45,
   "metadata": {},
   "outputs": [],
   "source": [
    "deliveries = pd.merge(coded_deliveries, latest_deliveries, on='full_address')\n",
    "products.columns = products.columns.str.replace('Codigo', 'codigo')\n",
    "deliveries = pd.merge(deliveries, products, on='codigo') \n"
   ]
  },
  {
   "cell_type": "code",
   "execution_count": 46,
   "metadata": {},
   "outputs": [
    {
     "data": {
      "text/plain": [
       "Index(['full_address', 'Vol_x', 'locations', 'point', 'latitude', 'longitude',\n",
       "       'altitude', 'unidad', 'factura', 'foliocontrol', 'tienda', 'fechaventa',\n",
       "       'fechaenrutada', 'ruta', 'codigo', 'cantidad', 'preciovta',\n",
       "       'tipodeservicio', 'cedis', 'num_ciudad', 'nombreciudad', 'numerozona',\n",
       "       'nombrezona', 'nombrecalle', 'numerodecasa', 'departamento',\n",
       "       'num_codigopostal', 'DCF', 'CATEGORIAS', 'Articulo', 'Marca', 'Modelo',\n",
       "       '# Proveedor', 'Vol_y'],\n",
       "      dtype='object')"
      ]
     },
     "execution_count": 46,
     "metadata": {},
     "output_type": "execute_result"
    }
   ],
   "source": [
    "deliveries.columns\n"
   ]
  },
  {
   "cell_type": "code",
   "execution_count": 47,
   "metadata": {},
   "outputs": [],
   "source": [
    "vals = deliveries.CATEGORIAS.value_counts()\n"
   ]
  },
  {
   "cell_type": "code",
   "execution_count": 49,
   "metadata": {},
   "outputs": [
    {
     "data": {
      "text/plain": [
       "HOGAR                                      83\n",
       "RECAMARA                                   67\n",
       "LÍNEA BLANCA                               51\n",
       "TECNOLOGIA Y ENTRETENIMIENTO               17\n",
       "CELULARES                                  16\n",
       "JUGUETES, BEBÉS Y APARATOS DE EJERCICIO     9\n",
       "ENSERES DOMÉSTICOS                          9\n",
       "JOYERÍA Y RELOJERÍA                         4\n",
       "TRANSPORTE Y MOVILIDAD                      2\n",
       "Name: CATEGORIAS, dtype: int64"
      ]
     },
     "execution_count": 49,
     "metadata": {},
     "output_type": "execute_result"
    }
   ],
   "source": [
    "vals\n"
   ]
  },
  {
   "cell_type": "code",
   "execution_count": 60,
   "metadata": {},
   "outputs": [
    {
     "data": {
      "image/png": "[encoded data removed]",
      "text/plain": [
       "<Figure size 720x360 with 1 Axes>"
      ]
     },
     "metadata": {},
     "output_type": "display_data"
    }
   ],
   "source": [
    "# Plot the deliveries by category\n",
    "plt.figure(figsize=(10,5))\n",
    "ax = sns.barplot(x=vals.index.str.capitalize(), y=vals.values)\n",
    "plt.title('Entregas por categoría');\n"
   ]
  },
  {
   "cell_type": "code",
   "execution_count": null,
   "metadata": {},
   "outputs": [],
   "source": []
  }
 ],
 "metadata": {
  "interpreter": {
   "hash": "916dbcbb3f70747c44a77c7bcd40155683ae19c65e1c03b4aa3499c5328201f1"
  },
  "kernelspec": {
   "display_name": "Python 3.8.10 64-bit",
   "language": "python",
   "name": "python3"
  },
  "language_info": {
   "codemirror_mode": {
    "name": "ipython",
    "version": 3
   },
   "file_extension": ".py",
   "mimetype": "text/x-python",
   "name": "python",
   "nbconvert_exporter": "python",
   "pygments_lexer": "ipython3",
   "version": "3.8.10"
  },
  "orig_nbformat": 4
 },
 "nbformat": 4,
 "nbformat_minor": 2
}
